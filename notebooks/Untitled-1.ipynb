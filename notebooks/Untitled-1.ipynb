{
 "cells": [
  {
   "cell_type": "code",
   "execution_count": 2,
   "id": "f7adbb01",
   "metadata": {},
   "outputs": [
    {
     "name": "stdout",
     "output_type": "stream",
     "text": [
      "All packages imported successfully!\n",
      "GDAL version: 3.6.4\n",
      "GeoPandas version: 0.12.2\n"
     ]
    }
   ],
   "source": [
    "from osgeo import gdal\n",
    "import geopandas, rasterio, pandas, numpy, matplotlib\n",
    "print(\"All packages imported successfully!\")\n",
    "print(f\"GDAL version: {gdal.__version__}\")\n",
    "print(f\"GeoPandas version: {geopandas.__version__}\")"
   ]
  },
  {
   "cell_type": "code",
   "execution_count": null,
   "id": "d0b86943",
   "metadata": {},
   "outputs": [],
   "source": []
  }
 ],
 "metadata": {
  "kernelspec": {
   "display_name": ".venv-ntl (3.11.9)",
   "language": "python",
   "name": "python3"
  },
  "language_info": {
   "codemirror_mode": {
    "name": "ipython",
    "version": 3
   },
   "file_extension": ".py",
   "mimetype": "text/x-python",
   "name": "python",
   "nbconvert_exporter": "python",
   "pygments_lexer": "ipython3",
   "version": "3.11.9"
  }
 },
 "nbformat": 4,
 "nbformat_minor": 5
}
